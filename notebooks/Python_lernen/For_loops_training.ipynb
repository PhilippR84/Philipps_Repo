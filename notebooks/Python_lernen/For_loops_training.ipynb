{
 "cells": [
  {
   "cell_type": "code",
   "execution_count": null,
   "metadata": {},
   "outputs": [],
   "source": [
    "String = \"Philipp\"\n",
    "for x in String:\n",
    "    print (x)\n",
    "\n",
    "for x in \"Philipp\":\n",
    "    print(x)"
   ]
  },
  {
   "cell_type": "markdown",
   "metadata": {},
   "source": [
    "For-Loop durch ein String"
   ]
  },
  {
   "cell_type": "code",
   "execution_count": null,
   "metadata": {},
   "outputs": [],
   "source": [
    "vt_Names = [\"Philipp\", \"Alex\", \"Jonas\", \"Robin\"]\n",
    "for x in vt_Names:\n",
    "    if x == \"Alex\":\n",
    "        print(\"Hallo Alex\")\n",
    "    else:\n",
    "        print(\"Hallo\")    "
   ]
  },
  {
   "cell_type": "markdown",
   "metadata": {},
   "source": [
    "For-Loop durch eine Tabelle.\n",
    "Mit Abgleich ob ein Name \"Alex\" ist."
   ]
  },
  {
   "cell_type": "code",
   "execution_count": null,
   "metadata": {},
   "outputs": [],
   "source": [
    "#Funktion\n",
    "def myFunc():\n",
    "    Name = \"Robin\"\n",
    "    print(\"Hallo \"+ Name)\n",
    "\n",
    "myFunc()"
   ]
  },
  {
   "cell_type": "code",
   "execution_count": null,
   "metadata": {},
   "outputs": [],
   "source": [
    "#Funktion mit globaler Variable\n",
    "def myFunc():\n",
    "    global Name\n",
    "    Name = \"Robin\"\n",
    "    print(\"Hallo \"+ Name)\n",
    "\n",
    "myFunc()\n",
    "print (Name)"
   ]
  },
  {
   "cell_type": "markdown",
   "metadata": {},
   "source": [
    "Funktionen in Python:\n",
    "- myFunc die beim Ausführen \"Hallo Robin\" ausgibt.\n",
    "- Funktion die mit einer globalen Variable arbeitet\n",
    "    - Der Wert der globalen Variable ist in dem Fall \"Robin\" \n",
    "    - Globale Variablen können auch auserhalb der Funktion aufgerufen werden\n"
   ]
  },
  {
   "cell_type": "code",
   "execution_count": null,
   "metadata": {},
   "outputs": [],
   "source": [
    "#Variablen definieren und Typ herausfinden\n",
    "x = float(5)\n",
    "print(type(x))\n",
    "\n",
    "#4 Wert des Wortes \"Philipp\". In dem Fall ist es das zeite \"i\". Da ab 0 angefangen wird zu zählen\n",
    "a = \"Philipp\"\n",
    "print (a[4])\n",
    "\n",
    "#Länge eines Strings herausfinden\n",
    "String = \"Philipp\"\n",
    "print(len(String))\n",
    "\n",
    "#Prüfen ob Bestimmter Text in String vorhanden ist\n",
    "Text = \"Hallo mein Name ist Philipp\"\n",
    "print(\"F\" in Text)\n",
    "\n",
    "#Prüfen ob Text vorhanden ist mit hilfe eines IF-Statements\n",
    "Text = \"Hallo mein Name ist Philipp\"\n",
    "if \"mein\" in Text:\n",
    "    print(\"Das Wort 'mein' ist vorhanden!\")\n",
    "else:\n",
    "    print(\"Ist nicht vorhanden\")\n",
    "\n",
    "#Prüfen ob Text vorhanden ist mit hilfe eines IF-Statements mit \"NOT\"\n",
    "Text = \"Hallo mein Name ist Philipp\"\n",
    "if \"mein\" not in Text:\n",
    "    print(\"Das Wort 'mein' ist nicht vorhanden!\")\n",
    "else:\n",
    "    print(\"Ist vorhanden\")\n",
    "\n",
    "#Ausgabe von 3 Index zum 8. Ausgabe \"llo Wo\"\n",
    "b = \"Hello World\"\n",
    "print(b[2:8])\n",
    "\n",
    "#String alles groß oder klein schreiben\n",
    "a = \"hallo philipp\"\n",
    "print (a.upper())\n",
    "b = (a.upper())\n",
    "print (b.lower())\n",
    "\n",
    "#Leerzeichen nach einem String enfernen. Mit einer Kontrolle ob wirklich keien Leerzeichen dahinter sind.\n",
    "a = \"Hello World      \"\n",
    "print (a.strip()+ \"Baum\")\n",
    "print (a + \"Baum\")\n",
    "\n",
    "#\"l\" wird zu \"1\" ersetzt. Ausgabe He11o Wor1d\n",
    "print (a.replace(\"l\", \"1\"))"
   ]
  }
 ],
 "metadata": {
  "language_info": {
   "name": "python"
  }
 },
 "nbformat": 4,
 "nbformat_minor": 2
}
